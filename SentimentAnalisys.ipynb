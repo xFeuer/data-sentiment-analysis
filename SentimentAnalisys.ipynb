{
 "cells": [
  {
   "cell_type": "code",
   "execution_count": 33,
   "metadata": {},
   "outputs": [
    {
     "name": "stdout",
     "output_type": "stream",
     "text": [
      "Requirement already satisfied: leia-br in c:\\users\\guta\\anaconda3\\lib\\site-packages (0.0.1)\n",
      "Requirement already satisfied: requests in c:\\users\\guta\\anaconda3\\lib\\site-packages (from leia-br) (2.28.1)\n",
      "Requirement already satisfied: certifi>=2017.4.17 in c:\\users\\guta\\anaconda3\\lib\\site-packages (from requests->leia-br) (2022.9.14)\n",
      "Requirement already satisfied: idna<4,>=2.5 in c:\\users\\guta\\anaconda3\\lib\\site-packages (from requests->leia-br) (3.3)\n",
      "Requirement already satisfied: charset-normalizer<3,>=2 in c:\\users\\guta\\anaconda3\\lib\\site-packages (from requests->leia-br) (2.0.4)\n",
      "Requirement already satisfied: urllib3<1.27,>=1.21.1 in c:\\users\\guta\\anaconda3\\lib\\site-packages (from requests->leia-br) (1.26.11)\n"
     ]
    }
   ],
   "source": [
    "# Importar bibliotecas\n",
    "!pip install leia-br\n",
    "import nltk\n",
    "import pandas as pd\n",
    "from IPython.display import display\n",
    "import pandas as pd\n",
    "import matplotlib.pyplot as plt\n",
    "import emoji\n",
    "import LeiA\n",
    "from sklearn.metrics import classification_report\n",
    "from vaderSentiment.vaderSentiment import SentimentIntensityAnalyzer\n"
   ]
  },
  {
   "cell_type": "code",
   "execution_count": 2,
   "metadata": {},
   "outputs": [
    {
     "data": {
      "text/html": [
       "<div>\n",
       "<style scoped>\n",
       "    .dataframe tbody tr th:only-of-type {\n",
       "        vertical-align: middle;\n",
       "    }\n",
       "\n",
       "    .dataframe tbody tr th {\n",
       "        vertical-align: top;\n",
       "    }\n",
       "\n",
       "    .dataframe thead th {\n",
       "        text-align: right;\n",
       "    }\n",
       "</style>\n",
       "<table border=\"1\" class=\"dataframe\">\n",
       "  <thead>\n",
       "    <tr style=\"text-align: right;\">\n",
       "      <th></th>\n",
       "      <th>id</th>\n",
       "      <th>text</th>\n",
       "      <th>date</th>\n",
       "    </tr>\n",
       "  </thead>\n",
       "  <tbody>\n",
       "    <tr>\n",
       "      <th>0</th>\n",
       "      <td>1.031761e+18</td>\n",
       "      <td>NaN</td>\n",
       "      <td>Tue Aug 21 04:32:55 +0000 2018</td>\n",
       "    </tr>\n",
       "    <tr>\n",
       "      <th>1</th>\n",
       "      <td>NaN</td>\n",
       "      <td>Eu só queria conseguir comer alguma coisa pra ...</td>\n",
       "      <td>Tue Aug 21 04:32:37 +0000 2018</td>\n",
       "    </tr>\n",
       "    <tr>\n",
       "      <th>2</th>\n",
       "      <td>1.031761e+18</td>\n",
       "      <td>:D que lindo dia !</td>\n",
       "      <td>Tue Aug 21 04:32:33 +0000 2018</td>\n",
       "    </tr>\n",
       "    <tr>\n",
       "      <th>3</th>\n",
       "      <td>1.031761e+18</td>\n",
       "      <td>@Primo_Resmungao Pq da pr jeito!!é uma oferta,...</td>\n",
       "      <td>Tue Aug 21 04:32:21 +0000 2018</td>\n",
       "    </tr>\n",
       "    <tr>\n",
       "      <th>4</th>\n",
       "      <td>1.031761e+18</td>\n",
       "      <td>@BadWolf_Wagner @DanieVedo Eu entendi, mas iss...</td>\n",
       "      <td>Tue Aug 21 04:32:03 +0000 2018</td>\n",
       "    </tr>\n",
       "    <tr>\n",
       "      <th>5</th>\n",
       "      <td>1.031761e+18</td>\n",
       "      <td>@Chyko661 @g1 [+] Carcinoma Hepatico (Cancer d...</td>\n",
       "      <td>Tue Aug 21 04:31:53 +0000 2018</td>\n",
       "    </tr>\n",
       "    <tr>\n",
       "      <th>6</th>\n",
       "      <td>1.031761e+18</td>\n",
       "      <td>Aquela mina da limpeza, que tinha um marido co...</td>\n",
       "      <td>Tue Aug 21 04:31:46 +0000 2018</td>\n",
       "    </tr>\n",
       "    <tr>\n",
       "      <th>7</th>\n",
       "      <td>1.031761e+18</td>\n",
       "      <td>@narryfools aqui, espero que você melhore logo...</td>\n",
       "      <td>Tue Aug 21 04:31:32 +0000 2018</td>\n",
       "    </tr>\n",
       "    <tr>\n",
       "      <th>8</th>\n",
       "      <td>1.031761e+18</td>\n",
       "      <td>@fefocaires se és feliz trabalhando nisso entã...</td>\n",
       "      <td>Tue Aug 21 04:31:24 +0000 2018</td>\n",
       "    </tr>\n",
       "    <tr>\n",
       "      <th>9</th>\n",
       "      <td>1.031761e+18</td>\n",
       "      <td>vamos se seguir no insta? se quiser sdv :) #Te...</td>\n",
       "      <td>Tue Aug 21 04:31:19 +0000 2018</td>\n",
       "    </tr>\n",
       "  </tbody>\n",
       "</table>\n",
       "</div>"
      ],
      "text/plain": [
       "             id                                               text  \\\n",
       "0  1.031761e+18                                                NaN   \n",
       "1           NaN  Eu só queria conseguir comer alguma coisa pra ...   \n",
       "2  1.031761e+18                                 :D que lindo dia !   \n",
       "3  1.031761e+18  @Primo_Resmungao Pq da pr jeito!!é uma oferta,...   \n",
       "4  1.031761e+18  @BadWolf_Wagner @DanieVedo Eu entendi, mas iss...   \n",
       "5  1.031761e+18  @Chyko661 @g1 [+] Carcinoma Hepatico (Cancer d...   \n",
       "6  1.031761e+18  Aquela mina da limpeza, que tinha um marido co...   \n",
       "7  1.031761e+18  @narryfools aqui, espero que você melhore logo...   \n",
       "8  1.031761e+18  @fefocaires se és feliz trabalhando nisso entã...   \n",
       "9  1.031761e+18  vamos se seguir no insta? se quiser sdv :) #Te...   \n",
       "\n",
       "                             date  \n",
       "0  Tue Aug 21 04:32:55 +0000 2018  \n",
       "1  Tue Aug 21 04:32:37 +0000 2018  \n",
       "2  Tue Aug 21 04:32:33 +0000 2018  \n",
       "3  Tue Aug 21 04:32:21 +0000 2018  \n",
       "4  Tue Aug 21 04:32:03 +0000 2018  \n",
       "5  Tue Aug 21 04:31:53 +0000 2018  \n",
       "6  Tue Aug 21 04:31:46 +0000 2018  \n",
       "7  Tue Aug 21 04:31:32 +0000 2018  \n",
       "8  Tue Aug 21 04:31:24 +0000 2018  \n",
       "9  Tue Aug 21 04:31:19 +0000 2018  "
      ]
     },
     "metadata": {},
     "output_type": "display_data"
    },
    {
     "name": "stdout",
     "output_type": "stream",
     "text": [
      "Table has 699,039 rows and 3 columns\n"
     ]
    }
   ],
   "source": [
    "df_tabela_emocoes = pd.read_csv('nothemetweets.csv', sep=',')\n",
    "display(df_tabela_emocoes.head(n=10))\n",
    "print('Table has {:,} rows and {} columns'.format(df_tabela_emocoes.shape[0], df_tabela_emocoes.shape[1]))"
   ]
  },
  {
   "cell_type": "code",
   "execution_count": 3,
   "metadata": {},
   "outputs": [
    {
     "data": {
      "text/plain": [
       "id      True\n",
       "text    True\n",
       "date    True\n",
       "dtype: bool"
      ]
     },
     "execution_count": 3,
     "metadata": {},
     "output_type": "execute_result"
    }
   ],
   "source": [
    "## Checa por valores ausentes\n",
    "df_tabela_emocoes.isna().any()"
   ]
  },
  {
   "cell_type": "code",
   "execution_count": 4,
   "metadata": {},
   "outputs": [],
   "source": [
    "# Elimina valores ausentes\n",
    "tweet_df = df_tabela_emocoes.dropna(how='any')"
   ]
  },
  {
   "cell_type": "code",
   "execution_count": 5,
   "metadata": {},
   "outputs": [
    {
     "name": "stderr",
     "output_type": "stream",
     "text": [
      "C:\\Users\\Guta\\AppData\\Local\\Temp\\ipykernel_16392\\324774154.py:22: SettingWithCopyWarning: \n",
      "A value is trying to be set on a copy of a slice from a DataFrame.\n",
      "Try using .loc[row_indexer,col_indexer] = value instead\n",
      "\n",
      "See the caveats in the documentation: https://pandas.pydata.org/pandas-docs/stable/user_guide/indexing.html#returning-a-view-versus-a-copy\n",
      "  tweet_df['simbolo'] = tweet_df['text'].apply(symbol_matcher)\n",
      "C:\\Users\\Guta\\AppData\\Local\\Temp\\ipykernel_16392\\324774154.py:23: SettingWithCopyWarning: \n",
      "A value is trying to be set on a copy of a slice from a DataFrame.\n",
      "Try using .loc[row_indexer,col_indexer] = value instead\n",
      "\n",
      "See the caveats in the documentation: https://pandas.pydata.org/pandas-docs/stable/user_guide/indexing.html#returning-a-view-versus-a-copy\n",
      "  tweet_df['sentimento'] = tweet_df['simbolo'].apply(felling_matcher)\n"
     ]
    },
    {
     "name": "stdout",
     "output_type": "stream",
     "text": [
      "\n",
      "DF COM SENTIMENTOS POSITIVOS: \n"
     ]
    },
    {
     "data": {
      "text/html": [
       "<div>\n",
       "<style scoped>\n",
       "    .dataframe tbody tr th:only-of-type {\n",
       "        vertical-align: middle;\n",
       "    }\n",
       "\n",
       "    .dataframe tbody tr th {\n",
       "        vertical-align: top;\n",
       "    }\n",
       "\n",
       "    .dataframe thead th {\n",
       "        text-align: right;\n",
       "    }\n",
       "</style>\n",
       "<table border=\"1\" class=\"dataframe\">\n",
       "  <thead>\n",
       "    <tr style=\"text-align: right;\">\n",
       "      <th></th>\n",
       "      <th>id</th>\n",
       "      <th>text</th>\n",
       "      <th>date</th>\n",
       "      <th>simbolo</th>\n",
       "      <th>sentimento</th>\n",
       "    </tr>\n",
       "  </thead>\n",
       "  <tbody>\n",
       "    <tr>\n",
       "      <th>2</th>\n",
       "      <td>1.031761e+18</td>\n",
       "      <td>:D que lindo dia !</td>\n",
       "      <td>Tue Aug 21 04:32:33 +0000 2018</td>\n",
       "      <td>:D</td>\n",
       "      <td>Positivo</td>\n",
       "    </tr>\n",
       "    <tr>\n",
       "      <th>5</th>\n",
       "      <td>1.031761e+18</td>\n",
       "      <td>@Chyko661 @g1 [+] Carcinoma Hepatico (Cancer d...</td>\n",
       "      <td>Tue Aug 21 04:31:53 +0000 2018</td>\n",
       "      <td>:)</td>\n",
       "      <td>Positivo</td>\n",
       "    </tr>\n",
       "    <tr>\n",
       "      <th>6</th>\n",
       "      <td>1.031761e+18</td>\n",
       "      <td>Aquela mina da limpeza, que tinha um marido co...</td>\n",
       "      <td>Tue Aug 21 04:31:46 +0000 2018</td>\n",
       "      <td>:)</td>\n",
       "      <td>Positivo</td>\n",
       "    </tr>\n",
       "    <tr>\n",
       "      <th>7</th>\n",
       "      <td>1.031761e+18</td>\n",
       "      <td>@narryfools aqui, espero que você melhore logo...</td>\n",
       "      <td>Tue Aug 21 04:31:32 +0000 2018</td>\n",
       "      <td>:)</td>\n",
       "      <td>Positivo</td>\n",
       "    </tr>\n",
       "    <tr>\n",
       "      <th>8</th>\n",
       "      <td>1.031761e+18</td>\n",
       "      <td>@fefocaires se és feliz trabalhando nisso entã...</td>\n",
       "      <td>Tue Aug 21 04:31:24 +0000 2018</td>\n",
       "      <td>:)</td>\n",
       "      <td>Positivo</td>\n",
       "    </tr>\n",
       "    <tr>\n",
       "      <th>...</th>\n",
       "      <td>...</td>\n",
       "      <td>...</td>\n",
       "      <td>...</td>\n",
       "      <td>...</td>\n",
       "      <td>...</td>\n",
       "    </tr>\n",
       "    <tr>\n",
       "      <th>699034</th>\n",
       "      <td>1.050705e+18</td>\n",
       "      <td>Acordar 8 horas é tão bom :)</td>\n",
       "      <td>Fri Oct 12 11:10:01 +0000 2018</td>\n",
       "      <td>:)</td>\n",
       "      <td>Positivo</td>\n",
       "    </tr>\n",
       "    <tr>\n",
       "      <th>699035</th>\n",
       "      <td>1.050707e+18</td>\n",
       "      <td>@mayckcunha Olá, Mayck. Você já é cliente Clar...</td>\n",
       "      <td>Fri Oct 12 11:16:02 +0000 2018</td>\n",
       "      <td>:)</td>\n",
       "      <td>Positivo</td>\n",
       "    </tr>\n",
       "    <tr>\n",
       "      <th>699036</th>\n",
       "      <td>1.050706e+18</td>\n",
       "      <td>Opa tava na merda mm e fiquei logo mais feliz ...</td>\n",
       "      <td>Fri Oct 12 11:12:49 +0000 2018</td>\n",
       "      <td>:)</td>\n",
       "      <td>Positivo</td>\n",
       "    </tr>\n",
       "    <tr>\n",
       "      <th>699037</th>\n",
       "      <td>1.050705e+18</td>\n",
       "      <td>@andrebraga2806 Foi como a tua lealdade :)</td>\n",
       "      <td>Fri Oct 12 11:11:24 +0000 2018</td>\n",
       "      <td>:)</td>\n",
       "      <td>Positivo</td>\n",
       "    </tr>\n",
       "    <tr>\n",
       "      <th>699038</th>\n",
       "      <td>1.050705e+18</td>\n",
       "      <td>Feliz dia das crianças!! De hoje e de ontem......</td>\n",
       "      <td>Fri Oct 12 11:09:08 +0000 2018</td>\n",
       "      <td>:)</td>\n",
       "      <td>Positivo</td>\n",
       "    </tr>\n",
       "  </tbody>\n",
       "</table>\n",
       "<p>184675 rows × 5 columns</p>\n",
       "</div>"
      ],
      "text/plain": [
       "                  id                                               text  \\\n",
       "2       1.031761e+18                                 :D que lindo dia !   \n",
       "5       1.031761e+18  @Chyko661 @g1 [+] Carcinoma Hepatico (Cancer d...   \n",
       "6       1.031761e+18  Aquela mina da limpeza, que tinha um marido co...   \n",
       "7       1.031761e+18  @narryfools aqui, espero que você melhore logo...   \n",
       "8       1.031761e+18  @fefocaires se és feliz trabalhando nisso entã...   \n",
       "...              ...                                                ...   \n",
       "699034  1.050705e+18                       Acordar 8 horas é tão bom :)   \n",
       "699035  1.050707e+18  @mayckcunha Olá, Mayck. Você já é cliente Clar...   \n",
       "699036  1.050706e+18  Opa tava na merda mm e fiquei logo mais feliz ...   \n",
       "699037  1.050705e+18         @andrebraga2806 Foi como a tua lealdade :)   \n",
       "699038  1.050705e+18  Feliz dia das crianças!! De hoje e de ontem......   \n",
       "\n",
       "                                  date simbolo sentimento  \n",
       "2       Tue Aug 21 04:32:33 +0000 2018      :D   Positivo  \n",
       "5       Tue Aug 21 04:31:53 +0000 2018      :)   Positivo  \n",
       "6       Tue Aug 21 04:31:46 +0000 2018      :)   Positivo  \n",
       "7       Tue Aug 21 04:31:32 +0000 2018      :)   Positivo  \n",
       "8       Tue Aug 21 04:31:24 +0000 2018      :)   Positivo  \n",
       "...                                ...     ...        ...  \n",
       "699034  Fri Oct 12 11:10:01 +0000 2018      :)   Positivo  \n",
       "699035  Fri Oct 12 11:16:02 +0000 2018      :)   Positivo  \n",
       "699036  Fri Oct 12 11:12:49 +0000 2018      :)   Positivo  \n",
       "699037  Fri Oct 12 11:11:24 +0000 2018      :)   Positivo  \n",
       "699038  Fri Oct 12 11:09:08 +0000 2018      :)   Positivo  \n",
       "\n",
       "[184675 rows x 5 columns]"
      ]
     },
     "metadata": {},
     "output_type": "display_data"
    },
    {
     "name": "stdout",
     "output_type": "stream",
     "text": [
      "DF COM SENTIMENTOS NEUTROS: \n"
     ]
    },
    {
     "data": {
      "text/html": [
       "<div>\n",
       "<style scoped>\n",
       "    .dataframe tbody tr th:only-of-type {\n",
       "        vertical-align: middle;\n",
       "    }\n",
       "\n",
       "    .dataframe tbody tr th {\n",
       "        vertical-align: top;\n",
       "    }\n",
       "\n",
       "    .dataframe thead th {\n",
       "        text-align: right;\n",
       "    }\n",
       "</style>\n",
       "<table border=\"1\" class=\"dataframe\">\n",
       "  <thead>\n",
       "    <tr style=\"text-align: right;\">\n",
       "      <th></th>\n",
       "      <th>id</th>\n",
       "      <th>text</th>\n",
       "      <th>date</th>\n",
       "      <th>simbolo</th>\n",
       "      <th>sentimento</th>\n",
       "    </tr>\n",
       "  </thead>\n",
       "  <tbody>\n",
       "    <tr>\n",
       "      <th>3</th>\n",
       "      <td>1.031761e+18</td>\n",
       "      <td>@Primo_Resmungao Pq da pr jeito!!é uma oferta,...</td>\n",
       "      <td>Tue Aug 21 04:32:21 +0000 2018</td>\n",
       "      <td>:P</td>\n",
       "      <td>Neutro</td>\n",
       "    </tr>\n",
       "    <tr>\n",
       "      <th>4</th>\n",
       "      <td>1.031761e+18</td>\n",
       "      <td>@BadWolf_Wagner @DanieVedo Eu entendi, mas iss...</td>\n",
       "      <td>Tue Aug 21 04:32:03 +0000 2018</td>\n",
       "      <td>:P</td>\n",
       "      <td>Neutro</td>\n",
       "    </tr>\n",
       "    <tr>\n",
       "      <th>12</th>\n",
       "      <td>1.031760e+18</td>\n",
       "      <td>Quando você joga com um youtuber que você segu...</td>\n",
       "      <td>Tue Aug 21 04:30:44 +0000 2018</td>\n",
       "      <td>:P</td>\n",
       "      <td>Neutro</td>\n",
       "    </tr>\n",
       "    <tr>\n",
       "      <th>46</th>\n",
       "      <td>1.031762e+18</td>\n",
       "      <td>@Primo_Resmungao @God_is_a_she A tua mulher pa...</td>\n",
       "      <td>Tue Aug 21 04:35:19 +0000 2018</td>\n",
       "      <td>:P</td>\n",
       "      <td>Neutro</td>\n",
       "    </tr>\n",
       "    <tr>\n",
       "      <th>60</th>\n",
       "      <td>1.031758e+18</td>\n",
       "      <td>@padilhafbpa Consegue baixar Discord no seu ce...</td>\n",
       "      <td>Tue Aug 21 04:22:13 +0000 2018</td>\n",
       "      <td>:P</td>\n",
       "      <td>Neutro</td>\n",
       "    </tr>\n",
       "    <tr>\n",
       "      <th>...</th>\n",
       "      <td>...</td>\n",
       "      <td>...</td>\n",
       "      <td>...</td>\n",
       "      <td>...</td>\n",
       "      <td>...</td>\n",
       "    </tr>\n",
       "    <tr>\n",
       "      <th>698819</th>\n",
       "      <td>1.050715e+18</td>\n",
       "      <td>@ritamendes015 Atrás do perfil da rita não val...</td>\n",
       "      <td>Fri Oct 12 11:50:34 +0000 2018</td>\n",
       "      <td>:P</td>\n",
       "      <td>Neutro</td>\n",
       "    </tr>\n",
       "    <tr>\n",
       "      <th>698893</th>\n",
       "      <td>1.050719e+18</td>\n",
       "      <td>No momento morrendo de sono, mas já já a gente...</td>\n",
       "      <td>Fri Oct 12 12:05:59 +0000 2018</td>\n",
       "      <td>:P</td>\n",
       "      <td>Neutro</td>\n",
       "    </tr>\n",
       "    <tr>\n",
       "      <th>698897</th>\n",
       "      <td>1.050718e+18</td>\n",
       "      <td>Para nós, o programa de sexta-feira é claro. C...</td>\n",
       "      <td>Fri Oct 12 12:00:57 +0000 2018</td>\n",
       "      <td>:P</td>\n",
       "      <td>Neutro</td>\n",
       "    </tr>\n",
       "    <tr>\n",
       "      <th>698942</th>\n",
       "      <td>1.050717e+18</td>\n",
       "      <td>@andrebento @RebeloNuno @iAModp @jotadaega Ehe...</td>\n",
       "      <td>Fri Oct 12 11:58:57 +0000 2018</td>\n",
       "      <td>:P</td>\n",
       "      <td>Neutro</td>\n",
       "    </tr>\n",
       "    <tr>\n",
       "      <th>699000</th>\n",
       "      <td>1.050705e+18</td>\n",
       "      <td>@PaulaCrystalina @pH1sugarfree @pact_pt É mais...</td>\n",
       "      <td>Fri Oct 12 11:11:02 +0000 2018</td>\n",
       "      <td>:P</td>\n",
       "      <td>Neutro</td>\n",
       "    </tr>\n",
       "  </tbody>\n",
       "</table>\n",
       "<p>7347 rows × 5 columns</p>\n",
       "</div>"
      ],
      "text/plain": [
       "                  id                                               text  \\\n",
       "3       1.031761e+18  @Primo_Resmungao Pq da pr jeito!!é uma oferta,...   \n",
       "4       1.031761e+18  @BadWolf_Wagner @DanieVedo Eu entendi, mas iss...   \n",
       "12      1.031760e+18  Quando você joga com um youtuber que você segu...   \n",
       "46      1.031762e+18  @Primo_Resmungao @God_is_a_she A tua mulher pa...   \n",
       "60      1.031758e+18  @padilhafbpa Consegue baixar Discord no seu ce...   \n",
       "...              ...                                                ...   \n",
       "698819  1.050715e+18  @ritamendes015 Atrás do perfil da rita não val...   \n",
       "698893  1.050719e+18  No momento morrendo de sono, mas já já a gente...   \n",
       "698897  1.050718e+18  Para nós, o programa de sexta-feira é claro. C...   \n",
       "698942  1.050717e+18  @andrebento @RebeloNuno @iAModp @jotadaega Ehe...   \n",
       "699000  1.050705e+18  @PaulaCrystalina @pH1sugarfree @pact_pt É mais...   \n",
       "\n",
       "                                  date simbolo sentimento  \n",
       "3       Tue Aug 21 04:32:21 +0000 2018      :P     Neutro  \n",
       "4       Tue Aug 21 04:32:03 +0000 2018      :P     Neutro  \n",
       "12      Tue Aug 21 04:30:44 +0000 2018      :P     Neutro  \n",
       "46      Tue Aug 21 04:35:19 +0000 2018      :P     Neutro  \n",
       "60      Tue Aug 21 04:22:13 +0000 2018      :P     Neutro  \n",
       "...                                ...     ...        ...  \n",
       "698819  Fri Oct 12 11:50:34 +0000 2018      :P     Neutro  \n",
       "698893  Fri Oct 12 12:05:59 +0000 2018      :P     Neutro  \n",
       "698897  Fri Oct 12 12:00:57 +0000 2018      :P     Neutro  \n",
       "698942  Fri Oct 12 11:58:57 +0000 2018      :P     Neutro  \n",
       "699000  Fri Oct 12 11:11:02 +0000 2018      :P     Neutro  \n",
       "\n",
       "[7347 rows x 5 columns]"
      ]
     },
     "metadata": {},
     "output_type": "display_data"
    },
    {
     "name": "stdout",
     "output_type": "stream",
     "text": [
      "DF COM SENTIMENTOS NEGATIVOS: \n"
     ]
    },
    {
     "data": {
      "text/html": [
       "<div>\n",
       "<style scoped>\n",
       "    .dataframe tbody tr th:only-of-type {\n",
       "        vertical-align: middle;\n",
       "    }\n",
       "\n",
       "    .dataframe tbody tr th {\n",
       "        vertical-align: top;\n",
       "    }\n",
       "\n",
       "    .dataframe thead th {\n",
       "        text-align: right;\n",
       "    }\n",
       "</style>\n",
       "<table border=\"1\" class=\"dataframe\">\n",
       "  <thead>\n",
       "    <tr style=\"text-align: right;\">\n",
       "      <th></th>\n",
       "      <th>id</th>\n",
       "      <th>text</th>\n",
       "      <th>date</th>\n",
       "      <th>simbolo</th>\n",
       "      <th>sentimento</th>\n",
       "    </tr>\n",
       "  </thead>\n",
       "  <tbody>\n",
       "    <tr>\n",
       "      <th>162</th>\n",
       "      <td>1.031746e+18</td>\n",
       "      <td>Pra sempre bonde do bodão em nossos corações! ...</td>\n",
       "      <td>Tue Aug 21 03:31:56 +0000 2018</td>\n",
       "      <td>:´)</td>\n",
       "      <td>Negativo</td>\n",
       "    </tr>\n",
       "    <tr>\n",
       "      <th>194</th>\n",
       "      <td>1.031749e+18</td>\n",
       "      <td>façam chamada cmg :) :(</td>\n",
       "      <td>Tue Aug 21 03:44:42 +0000 2018</td>\n",
       "      <td>:(</td>\n",
       "      <td>Negativo</td>\n",
       "    </tr>\n",
       "    <tr>\n",
       "      <th>245</th>\n",
       "      <td>1.031747e+18</td>\n",
       "      <td>@oioijuliana aaaa é só chamar, real hahah :) m...</td>\n",
       "      <td>Tue Aug 21 03:35:25 +0000 2018</td>\n",
       "      <td>:(</td>\n",
       "      <td>Negativo</td>\n",
       "    </tr>\n",
       "    <tr>\n",
       "      <th>918</th>\n",
       "      <td>1.031730e+18</td>\n",
       "      <td>Bebê, vc prefere sunshine ou bela mia?? Boa no...</td>\n",
       "      <td>Tue Aug 21 02:29:32 +0000 2018</td>\n",
       "      <td>:(</td>\n",
       "      <td>Negativo</td>\n",
       "    </tr>\n",
       "    <tr>\n",
       "      <th>938</th>\n",
       "      <td>1.031734e+18</td>\n",
       "      <td>achei um filme legal :) to com sono :(</td>\n",
       "      <td>Tue Aug 21 02:45:55 +0000 2018</td>\n",
       "      <td>:(</td>\n",
       "      <td>Negativo</td>\n",
       "    </tr>\n",
       "    <tr>\n",
       "      <th>...</th>\n",
       "      <td>...</td>\n",
       "      <td>...</td>\n",
       "      <td>...</td>\n",
       "      <td>...</td>\n",
       "      <td>...</td>\n",
       "    </tr>\n",
       "    <tr>\n",
       "      <th>697125</th>\n",
       "      <td>1.049138e+18</td>\n",
       "      <td>Do nada cara :(</td>\n",
       "      <td>Mon Oct 08 03:23:29 +0000 2018</td>\n",
       "      <td>:(</td>\n",
       "      <td>Negativo</td>\n",
       "    </tr>\n",
       "    <tr>\n",
       "      <th>697353</th>\n",
       "      <td>1.050762e+18</td>\n",
       "      <td>@nwtsz é bom mesmo Nats, mas o meu ja ta no fi...</td>\n",
       "      <td>Fri Oct 12 14:56:18 +0000 2018</td>\n",
       "      <td>:´)</td>\n",
       "      <td>Negativo</td>\n",
       "    </tr>\n",
       "    <tr>\n",
       "      <th>697864</th>\n",
       "      <td>1.050743e+18</td>\n",
       "      <td>vou ter churrasco :) é com gente da igreja que...</td>\n",
       "      <td>Fri Oct 12 13:40:38 +0000 2018</td>\n",
       "      <td>:(</td>\n",
       "      <td>Negativo</td>\n",
       "    </tr>\n",
       "    <tr>\n",
       "      <th>698167</th>\n",
       "      <td>1.050727e+18</td>\n",
       "      <td>Vejo aqueles memes: quando vc recebe visita :(...</td>\n",
       "      <td>Fri Oct 12 12:37:48 +0000 2018</td>\n",
       "      <td>:(</td>\n",
       "      <td>Negativo</td>\n",
       "    </tr>\n",
       "    <tr>\n",
       "      <th>698249</th>\n",
       "      <td>1.050728e+18</td>\n",
       "      <td>@gustavodocil @Allanmnez Não, tudo bem hahaha ...</td>\n",
       "      <td>Fri Oct 12 12:39:26 +0000 2018</td>\n",
       "      <td>:(</td>\n",
       "      <td>Negativo</td>\n",
       "    </tr>\n",
       "  </tbody>\n",
       "</table>\n",
       "<p>374126 rows × 5 columns</p>\n",
       "</div>"
      ],
      "text/plain": [
       "                  id                                               text  \\\n",
       "162     1.031746e+18  Pra sempre bonde do bodão em nossos corações! ...   \n",
       "194     1.031749e+18                            façam chamada cmg :) :(   \n",
       "245     1.031747e+18  @oioijuliana aaaa é só chamar, real hahah :) m...   \n",
       "918     1.031730e+18  Bebê, vc prefere sunshine ou bela mia?? Boa no...   \n",
       "938     1.031734e+18             achei um filme legal :) to com sono :(   \n",
       "...              ...                                                ...   \n",
       "697125  1.049138e+18                                    Do nada cara :(   \n",
       "697353  1.050762e+18  @nwtsz é bom mesmo Nats, mas o meu ja ta no fi...   \n",
       "697864  1.050743e+18  vou ter churrasco :) é com gente da igreja que...   \n",
       "698167  1.050727e+18  Vejo aqueles memes: quando vc recebe visita :(...   \n",
       "698249  1.050728e+18  @gustavodocil @Allanmnez Não, tudo bem hahaha ...   \n",
       "\n",
       "                                  date simbolo sentimento  \n",
       "162     Tue Aug 21 03:31:56 +0000 2018     :´)   Negativo  \n",
       "194     Tue Aug 21 03:44:42 +0000 2018      :(   Negativo  \n",
       "245     Tue Aug 21 03:35:25 +0000 2018      :(   Negativo  \n",
       "918     Tue Aug 21 02:29:32 +0000 2018      :(   Negativo  \n",
       "938     Tue Aug 21 02:45:55 +0000 2018      :(   Negativo  \n",
       "...                                ...     ...        ...  \n",
       "697125  Mon Oct 08 03:23:29 +0000 2018      :(   Negativo  \n",
       "697353  Fri Oct 12 14:56:18 +0000 2018     :´)   Negativo  \n",
       "697864  Fri Oct 12 13:40:38 +0000 2018      :(   Negativo  \n",
       "698167  Fri Oct 12 12:37:48 +0000 2018      :(   Negativo  \n",
       "698249  Fri Oct 12 12:39:26 +0000 2018      :(   Negativo  \n",
       "\n",
       "[374126 rows x 5 columns]"
      ]
     },
     "metadata": {},
     "output_type": "display_data"
    }
   ],
   "source": [
    "positive_symbols = [ \":)\", \": )\", \":D\", \"xD\", \":-)\"]\n",
    "negative_symbols = [ \":/\", \":(\", \":-(\", \":´)\", \":´´)\", \":´(\"]\n",
    "neutral_symbols = [ ':V', ':P', ':/']\n",
    "\n",
    "symbols = [ \":)\", \": )\", \":D\", \"xD\", \":-)\", ':V', ':P', ':/', \n",
    "                        \":/\", \":(\", \":-(\", \":´)\", \":´´)\", \":´(\"]\n",
    "\n",
    "def symbol_matcher(text):\n",
    "        splited_text = text.split()\n",
    "        symbol_backwards = splited_text[-1::-1]\n",
    "        for item in symbol_backwards:\n",
    "            if item in symbols:\n",
    "                return item\n",
    "def felling_matcher(item):\n",
    "        if item in positive_symbols:\n",
    "                return \"Positivo\"\n",
    "        elif item in neutral_symbols:\n",
    "                return \"Neutro\"\n",
    "        elif item in negative_symbols:\n",
    "                return \"Negativo\"\n",
    "                \n",
    "tweet_df['simbolo'] = tweet_df['text'].apply(symbol_matcher)\n",
    "tweet_df['sentimento'] = tweet_df['simbolo'].apply(felling_matcher)\n",
    "\n",
    "print(\"\\nDF com sentimentos positivos: \".upper())\n",
    "display(tweet_df.query('sentimento == \"Positivo\"'))\n",
    "print(\"DF com sentimentos neutros: \".upper())\n",
    "display(tweet_df.query('sentimento == \"Neutro\"'))\n",
    "print(\"DF com sentimentos negativos: \".upper())\n",
    "display(tweet_df.query('sentimento == \"Negativo\"'))"
   ]
  },
  {
   "cell_type": "code",
   "execution_count": 6,
   "metadata": {},
   "outputs": [],
   "source": [
    "# Elimina valores ausentes\n",
    "tweet_df = tweet_df.dropna(how='any')"
   ]
  },
  {
   "cell_type": "code",
   "execution_count": 7,
   "metadata": {
    "tags": []
   },
   "outputs": [
    {
     "data": {
      "text/plain": [
       "id            False\n",
       "text          False\n",
       "date          False\n",
       "simbolo       False\n",
       "sentimento    False\n",
       "dtype: bool"
      ]
     },
     "execution_count": 7,
     "metadata": {},
     "output_type": "execute_result"
    }
   ],
   "source": [
    "## Checa por valores ausentes\n",
    "tweet_df.isna().any()"
   ]
  },
  {
   "cell_type": "code",
   "execution_count": 8,
   "metadata": {},
   "outputs": [],
   "source": [
    "tweet_df.to_csv(\"tweets_transformed\", index=False)"
   ]
  },
  {
   "cell_type": "code",
   "execution_count": 9,
   "metadata": {},
   "outputs": [],
   "source": [
    "df = tweet_df "
   ]
  },
  {
   "cell_type": "code",
   "execution_count": 10,
   "metadata": {},
   "outputs": [],
   "source": [
    "df = df.reset_index(drop=True)"
   ]
  },
  {
   "cell_type": "code",
   "execution_count": 11,
   "metadata": {},
   "outputs": [
    {
     "data": {
      "image/png": "[encoded data removed]",
      "text/plain": [
       "<Figure size 640x480 with 1 Axes>"
      ]
     },
     "metadata": {},
     "output_type": "display_data"
    }
   ],
   "source": [
    "# Distribuição dos sentimentos\n",
    "# Contagem de tweets por sentimento\n",
    "sentimento_counts = df[\"sentimento\"].value_counts()\n",
    "\n",
    "# Proporção de tweets por sentimento\n",
    "sentimento_proportions = sentimento_counts / df.shape[0]\n",
    "\n",
    "# Plotar a distribuição dos sentimentos\n",
    "plt.pie(sentimento_proportions, labels=sentimento_counts.index, autopct='%1.1f%%')\n",
    "plt.title(\"Distribuição dos Sentimentos\")\n",
    "plt.show()"
   ]
  },
  {
   "cell_type": "code",
   "execution_count": 12,
   "metadata": {},
   "outputs": [
    {
     "name": "stdout",
     "output_type": "stream",
     "text": [
      "\n",
      "Emojis positivos mais frequentes:\n",
      "[('❤', 1537), ('😂', 564), ('😍', 433), ('💜', 391), ('♥', 353), ('💕', 337), ('💛', 285), ('💗', 255), ('💖', 241), ('💞', 185)]\n",
      "\n",
      "Emojis negativos mais frequentes:\n",
      "[('❤', 2866), ('😢', 2138), ('💕', 1206), ('😭', 1081), ('💗', 982), ('💖', 932), ('💜', 790), ('💞', 652), ('♥', 623), ('😔', 489)]\n",
      "\n",
      "Símbolos positivos mais frequentes:\n",
      "[(':)', 300911), (':D', 49284), (':-)', 10587), ('xD', 193)]\n",
      "\n",
      "Símbolos negativos mais frequentes:\n",
      "[(':(', 735656), (':-(', 10022), (':/', 370), (':´(', 246), (':´)', 122)]\n",
      "\n",
      "Símbolos neutros mais frequentes:\n",
      "[(':P', 7144), (':/', 491), (':V', 5)]\n"
     ]
    }
   ],
   "source": [
    "emojis_positivos = {}\n",
    "emojis_negativos = {}\n",
    "simbolos_positivos = {} \n",
    "simbolos_negativos = {}\n",
    "simbolos_neutros = {}\n",
    "\n",
    "positive_symbols = [ \":)\", \": )\", \":D\", \"xD\", \":-)\"]\n",
    "negative_symbols = [ \":/\", \":(\", \":-(\", \":´)\", \":´´)\", \":´(\"]\n",
    "neutral_symbols = [ ':V', ':P', ':/']\n",
    "\n",
    "for i in range(df.shape[0]):\n",
    "    tweet = df.loc[i, \"text\"] \n",
    "    simbolo = df.loc[i:i + 1, 'simbolo']\n",
    "    sentimento = df.loc[i, \"sentimento\"]\n",
    "\n",
    "    # Analisa emojis e elemntos específicos relacionados\n",
    "    for char in tweet:\n",
    "        if char in emoji.EMOJI_DATA: # Para bibliotecas de emoji\n",
    "            if sentimento == \"Positivo\":\n",
    "                emojis_positivos[char] = emojis_positivos.get(char, 0) + 1\n",
    "            elif sentimento == \"Negativo\":\n",
    "                emojis_negativos[char] = emojis_negativos.get(char, 0) + 1\n",
    "    \n",
    "    for char in simbolo:\n",
    "        if sentimento == \"Positivo\":\n",
    "            # Exemplo: Adiciona simbolos associados a positividade (e.g., \":)\", \"*o*\")\n",
    "            if char in positive_symbols:\n",
    "                simbolos_positivos[char] = simbolos_positivos.get(char, 0) + 1\n",
    "        elif sentimento == \"Negativo\":\n",
    "            # Exemplo: Adiciona simbolos associados a negatividade\n",
    "            if char in negative_symbols:\n",
    "                simbolos_negativos[char] = simbolos_negativos.get(char, 0) + 1\n",
    "        elif sentimento == \"Neutro\":\n",
    "            # Exemplo: Adiciona simbolos associados a neutralidade\n",
    "            if char in neutral_symbols:\n",
    "                simbolos_neutros[char] = simbolos_neutros.get(char, 0) + 1\n",
    "\n",
    "print(\"\\nEmojis positivos mais frequentes:\")\n",
    "print(sorted(emojis_positivos.items(), key=lambda x: x[1], reverse=True)[:10])\n",
    "\n",
    "print(\"\\nEmojis negativos mais frequentes:\")\n",
    "print(sorted(emojis_negativos.items(), key=lambda x: x[1], reverse=True)[:10])\n",
    "\n",
    "print(\"\\nSímbolos positivos mais frequentes:\")\n",
    "print(sorted(simbolos_positivos.items(), key=lambda x: x[1], reverse=True)[:10])\n",
    "\n",
    "print(\"\\nSímbolos negativos mais frequentes:\")\n",
    "print(sorted(simbolos_negativos.items(), key=lambda x: x[1], reverse=True)[:10])\n",
    "\n",
    "print(\"\\nSímbolos neutros mais frequentes:\")\n",
    "print(sorted(simbolos_neutros.items(), key=lambda x: x[1], reverse=True)[:10])\n"
   ]
  },
  {
   "cell_type": "code",
   "execution_count": 13,
   "metadata": {},
   "outputs": [
    {
     "data": {
      "text/plain": [
       "id            False\n",
       "text          False\n",
       "date          False\n",
       "simbolo       False\n",
       "sentimento    False\n",
       "dtype: bool"
      ]
     },
     "execution_count": 13,
     "metadata": {},
     "output_type": "execute_result"
    }
   ],
   "source": [
    "df.isna().any()"
   ]
  },
  {
   "cell_type": "code",
   "execution_count": 71,
   "metadata": {},
   "outputs": [
    {
     "name": "stdout",
     "output_type": "stream",
     "text": [
      "              precision    recall  f1-score   support\n",
      "\n",
      "    Negativo       0.98      0.94      0.96    374126\n",
      "      Neutro       0.01      0.00      0.01      7347\n",
      "    Positivo       0.87      0.96      0.91    184675\n",
      "\n",
      "    accuracy                           0.94    566148\n",
      "   macro avg       0.62      0.64      0.63    566148\n",
      "weighted avg       0.93      0.94      0.93    566148\n",
      "\n"
     ]
    }
   ],
   "source": [
    "from LeIA import SentimentIntensityAnalyzer\n",
    "\n",
    "df[\"sentimento_predito\"] = df[\"text\"].apply(lambda x: analyzer.polarity_scores(x)[\"compound\"])\n",
    "\n",
    "# Parãmetros base para comparação\n",
    "sentiment_thresholds = {\"Negativo\": -0.05, \"Neutro\": 0, \"Positivo\": 0.05}\n",
    "\n",
    "# Cria uma nova coluna dos sentimentos de acordo com a categoria estipulada\n",
    "def predict_sentiment_category(score):\n",
    "        if score <= -0.05:\n",
    "            return \"Negativo\"\n",
    "        elif 0.05 < score <= -0.05:\n",
    "             return \"Indeterminado\" \n",
    "        elif score > 0.05:\n",
    "             return \"Positivo\"\n",
    "        else:\n",
    "            return \"Neutro\"\n",
    "        \n",
    "df[\"sentimento_predito_category\"] = df[\"sentimento_predito\"].apply(predict_sentiment_category)\n",
    "\n",
    "report = classification_report(df[\"sentimento\"], df[\"sentimento_predito_category\"])\n",
    "print(report)\n"
   ]
  },
  {
   "cell_type": "code",
   "execution_count": 72,
   "metadata": {},
   "outputs": [
    {
     "data": {
      "text/plain": [
       "0         0.6514\n",
       "1         0.6924\n",
       "2         0.4084\n",
       "3        -0.3400\n",
       "4         0.2023\n",
       "           ...  \n",
       "566143    0.4588\n",
       "566144    0.2869\n",
       "566145    0.4588\n",
       "566146    0.4588\n",
       "566147    0.5550\n",
       "Name: sentimento_predito, Length: 566148, dtype: float64"
      ]
     },
     "execution_count": 72,
     "metadata": {},
     "output_type": "execute_result"
    }
   ],
   "source": [
    "df[\"sentimento_predito\"]"
   ]
  },
  {
   "cell_type": "code",
   "execution_count": 73,
   "metadata": {},
   "outputs": [
    {
     "data": {
      "text/plain": [
       "3"
      ]
     },
     "execution_count": 73,
     "metadata": {},
     "output_type": "execute_result"
    }
   ],
   "source": [
    "df[\"sentimento_predito_category\"].nunique()"
   ]
  },
  {
   "cell_type": "code",
   "execution_count": 74,
   "metadata": {},
   "outputs": [],
   "source": [
    "df[\"sentimento_predito_category\"] = df[\"sentimento_predito\"].apply(predict_sentiment_category)"
   ]
  },
  {
   "cell_type": "code",
   "execution_count": 75,
   "metadata": {},
   "outputs": [
    {
     "data": {
      "text/plain": [
       "0         Positivo\n",
       "1         Positivo\n",
       "2         Positivo\n",
       "3         Negativo\n",
       "4         Positivo\n",
       "            ...   \n",
       "566143    Positivo\n",
       "566144    Positivo\n",
       "566145    Positivo\n",
       "566146    Positivo\n",
       "566147    Positivo\n",
       "Name: sentimento_predito_category, Length: 566148, dtype: object"
      ]
     },
     "execution_count": 75,
     "metadata": {},
     "output_type": "execute_result"
    }
   ],
   "source": [
    "df[\"sentimento_predito_category\"]"
   ]
  },
  {
   "cell_type": "code",
   "execution_count": 76,
   "metadata": {},
   "outputs": [
    {
     "name": "stdout",
     "output_type": "stream",
     "text": [
      "Acurácia do modelo: 0.9353596586051703\n"
     ]
    }
   ],
   "source": [
    "from sklearn.metrics import accuracy_score\n",
    "\n",
    "y_true = df[\"sentimento\"]\n",
    "y_pred = df[\"sentimento_predito_category\"]\n",
    "accuracy = accuracy_score(y_true, y_pred)\n",
    "\n",
    "print(\"Acurácia do modelo:\", accuracy)"
   ]
  },
  {
   "cell_type": "code",
   "execution_count": 80,
   "metadata": {},
   "outputs": [
    {
     "data": {
      "image/png": "[encoded data removed]",
      "text/plain": [
       "<Figure size 900x600 with 1 Axes>"
      ]
     },
     "metadata": {},
     "output_type": "display_data"
    }
   ],
   "source": [
    "# Ensure \"sentimento_predito_category\" column exists\n",
    "if \"sentimento_predito_category\" not in df.columns:\n",
    "    print(\"Error: 'sentimento_predito_category' column not found.\")\n",
    "else:\n",
    "    # Count occurrences of each sentiment category\n",
    "    sentiment_counts = df[\"sentimento_predito_category\"].value_counts().sort_values(ascending=False)\n",
    "\n",
    "    # Prepare labels and colors for the plot (adjust colors as needed)\n",
    "    category_labels = sentiment_counts.index.to_numpy()\n",
    "    category_colors = ['red', 'green', 'gray']  # Adjust colors for Negativo, Neutro, Positivo\n",
    "\n",
    "    # Create the pie chart\n",
    "    plt.figure(figsize=(9, 6))  # Adjust figure size as desired\n",
    "    plt.pie(sentiment_counts, labels=category_labels, autopct=\"%1.1f%%\", startangle=90, colors=category_colors)\n",
    "    plt.title(\"Sentiment Category Distribution\")\n",
    "    plt.axis('equal')  # Equal aspect ratio for a circular pie chart\n",
    "    plt.tight_layout()\n",
    "    plt.show()"
   ]
  },
  {
   "cell_type": "code",
   "execution_count": null,
   "metadata": {},
   "outputs": [],
   "source": []
  },
  {
   "cell_type": "code",
   "execution_count": null,
   "metadata": {},
   "outputs": [],
   "source": []
  }
 ],
 "metadata": {
  "kernelspec": {
   "display_name": "Python 3 (ipykernel)",
   "language": "python",
   "name": "python3"
  },
  "language_info": {
   "codemirror_mode": {
    "name": "ipython",
    "version": 3
   },
   "file_extension": ".py",
   "mimetype": "text/x-python",
   "name": "python",
   "nbconvert_exporter": "python",
   "pygments_lexer": "ipython3",
   "version": "3.9.13"
  }
 },
 "nbformat": 4,
 "nbformat_minor": 4
}
